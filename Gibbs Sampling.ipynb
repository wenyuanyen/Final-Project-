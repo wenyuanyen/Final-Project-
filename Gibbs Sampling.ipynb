{
 "cells": [
  {
   "cell_type": "code",
   "execution_count": 8,
   "metadata": {},
   "outputs": [],
   "source": [
    "### Name of Members: Weidi Pan, Wen Yuan Yen, Yuhei Koshino ####\n",
    "\n",
    "import numpy, math\n",
    "import matplotlib.pyplot as plt\n",
    "import numpy as np\n",
    "\n",
    "from sympy import *\n",
    "\n",
    "\n",
    "###The function defined below includes the Inverse Transform Sampling to generate the samples from the conditional distribution.\n",
    "###x and y are set as random variables from the uniform distribution. After x and y are calculated, they are stored in matrix m\n",
    "\n",
    "\n",
    "def gibbs(N,thin, theta):\n",
    "    x = np.random.uniform(0,1)\n",
    "    y = np.random.uniform(0,1)\n",
    "    m = np.zeros(shape= (N,2))\n",
    "    for i in range(N):\n",
    "        U = numpy.random.uniform()\n",
    "        m[i] = ((-1/y)*math.log(1-U*(1-math.exp(-theta*y)))),(-1/x)*math.log(1-U*(1-math.exp(-theta*x)))\n",
    "        y = (-1/x)*math.log(1-U*(1-math.exp(-theta*x)))\n",
    "        x = (-1/y)*math.log(1-U*(1-math.exp(-theta*y)))\n",
    "    return(m)\n"
   ]
  },
  {
   "cell_type": "code",
   "execution_count": 10,
   "metadata": {},
   "outputs": [
    {
     "name": "stdout",
     "output_type": "stream",
     "text": [
      "Expection= 1.0618429184252904\n"
     ]
    },
    {
     "data": {
      "image/png": "[encoded data removed]",
      "text/plain": [
       "<Figure size 432x288 with 1 Axes>"
      ]
     },
     "metadata": {
      "needs_background": "light"
     },
     "output_type": "display_data"
    }
   ],
   "source": [
    "m = gibbs(500,10,5)\n",
    "plt.hist([row[0]for row in m])\n",
    "print(f\"Expection=\", numpy.mean([row[0] for row in m]))"
   ]
  },
  {
   "cell_type": "code",
   "execution_count": 11,
   "metadata": {},
   "outputs": [
    {
     "name": "stdout",
     "output_type": "stream",
     "text": [
      "Expection= 1.0578542378286995\n"
     ]
    },
    {
     "data": {
      "image/png": "[encoded data removed]",
      "text/plain": [
       "<Figure size 432x288 with 1 Axes>"
      ]
     },
     "metadata": {
      "needs_background": "light"
     },
     "output_type": "display_data"
    }
   ],
   "source": [
    "m = gibbs(5000,10,5)\n",
    "plt.hist([row[0] for row in m])\n",
    "print(f\"Expection=\", numpy.mean([row[0] for row in m]))"
   ]
  },
  {
   "cell_type": "code",
   "execution_count": 12,
   "metadata": {},
   "outputs": [
    {
     "name": "stdout",
     "output_type": "stream",
     "text": [
      "Expection= 1.0663733484631792\n"
     ]
    },
    {
     "data": {
      "image/png": "[encoded data removed]",
      "text/plain": [
       "<Figure size 432x288 with 1 Axes>"
      ]
     },
     "metadata": {
      "needs_background": "light"
     },
     "output_type": "display_data"
    }
   ],
   "source": [
    "m = gibbs(50000,10,5)\n",
    "plt.hist([row[0] for row in m])\n",
    "print(f\"Expection=\", numpy.mean([row[0] for row in m]))"
   ]
  }
 ],
 "metadata": {
  "kernelspec": {
   "display_name": "Python 3",
   "language": "python",
   "name": "python3"
  },
  "language_info": {
   "codemirror_mode": {
    "name": "ipython",
    "version": 3
   },
   "file_extension": ".py",
   "mimetype": "text/x-python",
   "name": "python",
   "nbconvert_exporter": "python",
   "pygments_lexer": "ipython3",
   "version": "3.7.0"
  }
 },
 "nbformat": 4,
 "nbformat_minor": 2
}
