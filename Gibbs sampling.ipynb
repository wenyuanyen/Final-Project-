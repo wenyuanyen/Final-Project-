{
 "cells": [
  {
   "cell_type": "code",
   "execution_count": 22,
   "metadata": {},
   "outputs": [],
   "source": [
    "import numpy as np\n",
    "import math as math\n",
    "import matplotlib.pyplot as plt\n",
    "from prettytable import PrettyTable\n",
    "from sympy import *"
   ]
  },
  {
   "cell_type": "markdown",
   "metadata": {},
   "source": [
    "# 1.  Describe the algorithm "
   ]
  },
  {
   "cell_type": "raw",
   "metadata": {},
   "source": [
    "The function defined below includes the Inverse Transform Sampling to generate the samples from the conditional distribution. \n",
    "x and y are set as random variables from the uniform distribution. \n",
    "After x and y are calculated, they are stored in matrix m."
   ]
  },
  {
   "cell_type": "markdown",
   "metadata": {},
   "source": [
    "$$\\text{first initialize} ~~(x_0,y_0)~~ \\text{from}~uni(0,1)~~\\text{,respectively}$$"
   ]
  },
  {
   "cell_type": "markdown",
   "metadata": {},
   "source": [
    "$$\\text{Then sample U from uniform(0,1), and plug in into} ~~ F_{x|y_0}^{-1}(U)=-\\frac{1}{y_0} \\log\\big[1-U(1-\\exp^{-y_0B}) \\big] = x $$"
   ]
  },
  {
   "cell_type": "markdown",
   "metadata": {},
   "source": [
    "$$\\text{Then sample another U from uniform(0,1), and plug in into} ~~ F_{y|x}^{-1}(U)=-\\frac{1}{x}\\log\\big[1-U(1-\\exp^{-xB}) \\big] =y $$"
   ]
  },
  {
   "cell_type": "markdown",
   "metadata": {},
   "source": [
    "$$\\text{Repeat for N times } $$"
   ]
  },
  {
   "cell_type": "code",
   "execution_count": 35,
   "metadata": {},
   "outputs": [],
   "source": [
    "def gibbs(N, thin, B):\n",
    "    x = np.random.uniform(0,1)\n",
    "    y = np.random.uniform(0,1)\n",
    "    m = np.zeros(shape= (N,2)) \n",
    "    for i in range(N):\n",
    "        for j in range(thin):\n",
    "            U = np.random.uniform()\n",
    "            x = (-1/y)*math.log(1-U*(1-math.exp(-B*y)))\n",
    "            U = np.random.uniform()\n",
    "            y = (-1/x)*math.log(1-U*(1-math.exp(-B*x)) )                      \n",
    "        m[i,:] = [x,y]\n",
    "    return(m)"
   ]
  },
  {
   "cell_type": "markdown",
   "metadata": {},
   "source": [
    "# 2.  Plot the histogram of values for x."
   ]
  },
  {
   "cell_type": "markdown",
   "metadata": {},
   "source": [
    "## T = 500, B = 5"
   ]
  },
  {
   "cell_type": "code",
   "execution_count": 36,
   "metadata": {
    "scrolled": true
   },
   "outputs": [
    {
     "name": "stdout",
     "output_type": "stream",
     "text": [
      "Expection= 1.3583931101921045\n"
     ]
    },
    {
     "data": {
      "image/png": "[encoded data removed]",
      "text/plain": [
       "<matplotlib.figure.Figure at 0x10f57add8>"
      ]
     },
     "metadata": {},
     "output_type": "display_data"
    }
   ],
   "source": [
    "m2 = gibbs(500,10,5)\n",
    "plt.hist(m2[:,0])\n",
    "print(f\"Expection=\", np.mean(m2[:,0]))"
   ]
  },
  {
   "cell_type": "markdown",
   "metadata": {},
   "source": [
    "## T = 5000, B = 5"
   ]
  },
  {
   "cell_type": "code",
   "execution_count": 37,
   "metadata": {},
   "outputs": [
    {
     "name": "stdout",
     "output_type": "stream",
     "text": [
      "Expection= 1.2429921490282938\n"
     ]
    },
    {
     "data": {
      "image/png": "[encoded data removed]",
      "text/plain": [
       "<matplotlib.figure.Figure at 0x10fc404a8>"
      ]
     },
     "metadata": {},
     "output_type": "display_data"
    }
   ],
   "source": [
    "m3 = gibbs(5000,10,5)\n",
    "plt.hist(m3[:,0])\n",
    "print(f\"Expection=\", np.mean(m3[:,0]))"
   ]
  },
  {
   "cell_type": "markdown",
   "metadata": {},
   "source": [
    "## T = 50000, B = 5"
   ]
  },
  {
   "cell_type": "code",
   "execution_count": 38,
   "metadata": {},
   "outputs": [
    {
     "name": "stdout",
     "output_type": "stream",
     "text": [
      "Expection= 1.2568915567578731\n"
     ]
    },
    {
     "data": {
      "image/png": "[encoded data removed]",
      "text/plain": [
       "<matplotlib.figure.Figure at 0x10fc40710>"
      ]
     },
     "metadata": {},
     "output_type": "display_data"
    }
   ],
   "source": [
    "m4 = gibbs(50000,10,5)\n",
    "plt.hist(m4[:,0])\n",
    "print(f\"Expection=\", np.mean(m4[:,0]))"
   ]
  },
  {
   "cell_type": "markdown",
   "metadata": {},
   "source": [
    "# 3. Estimate of unconditional expectation of X"
   ]
  },
  {
   "cell_type": "code",
   "execution_count": 39,
   "metadata": {},
   "outputs": [
    {
     "name": "stdout",
     "output_type": "stream",
     "text": [
      "+---------------------------------------+\n",
      "| Gibb sampling estimate of E(X), B = 5 |\n",
      "+----------+----------------------------+\n",
      "|    T     |          Estimate          |\n",
      "+----------+----------------------------+\n",
      "|   500    |     1.3583931101921045     |\n",
      "|   5000   |     1.2429921490282938     |\n",
      "|  50000   |     1.2568915567578731     |\n",
      "+----------+----------------------------+\n"
     ]
    }
   ],
   "source": [
    "table = PrettyTable()\n",
    "table.title = \"Gibb sampling estimate of E(X), B = 5\"\n",
    "table.add_column('T', [500,5000,50000])\n",
    "table.add_column('Estimate', [np.mean(m2[:,0]), np.mean(m3[:,0]), np.mean(m4[:,0])])\n",
    "print(table)"
   ]
  }
 ],
 "metadata": {
  "kernelspec": {
   "display_name": "Python 3",
   "language": "python",
   "name": "python3"
  },
  "language_info": {
   "codemirror_mode": {
    "name": "ipython",
    "version": 3
   },
   "file_extension": ".py",
   "mimetype": "text/x-python",
   "name": "python",
   "nbconvert_exporter": "python",
   "pygments_lexer": "ipython3",
   "version": "3.6.4"
  }
 },
 "nbformat": 4,
 "nbformat_minor": 2
}
